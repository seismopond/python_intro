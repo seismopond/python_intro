{
  "nbformat": 4,
  "nbformat_minor": 0,
  "metadata": {
    "colab": {
      "name": "python101.ipynb",
      "provenance": [],
      "collapsed_sections": [],
      "include_colab_link": true
    },
    "kernelspec": {
      "name": "python3",
      "display_name": "Python 3"
    }
  },
  "cells": [
    {
      "cell_type": "markdown",
      "metadata": {
        "id": "view-in-github",
        "colab_type": "text"
      },
      "source": [
        "<a href=\"https://colab.research.google.com/github/seismopond/python_intro/blob/main/python101.ipynb\" target=\"_parent\"><img src=\"https://colab.research.google.com/assets/colab-badge.svg\" alt=\"Open In Colab\"/></a>"
      ]
    },
    {
      "cell_type": "markdown",
      "metadata": {
        "id": "ceFvxaZt7RhW"
      },
      "source": [
        "# **Python 101**\n",
        "---\n",
        "### *Pond Sirorattanakul*\n",
        "### krittanon.pond@gmail.com\n",
        "### Dated: *17 April 2020*\n",
        "\n",
        "Some resources (Warning: some of these websites still use python 2)\n",
        "\n",
        "https://www.tutorialspoint.com/python\n",
        "\n",
        "https://python101.pythonlibrary.org/\n",
        "\n",
        "https://www.python-course.eu/\n",
        "\n",
        "https://www.cs.hmc.edu/twiki/bin/view/CS5/\n",
        "\n",
        "https://problemsolvingwithpython.com/\n",
        "\n",
        "https://www.w3schools.com/python\n"
      ]
    },
    {
      "cell_type": "markdown",
      "metadata": {
        "id": "WMgMrlOHBPaw"
      },
      "source": [
        "## **Part 1: How to use Google Colaboratory Platform**\n",
        "Google colaboratory (colab) is a free coding platform offered by google based on the jupyter notebook environment. All codes and data will be stored in the cloud via google drive. The colab utilizes cloud-based run time which means that you don't need to use any computing resources from your own computer. It is currently only support python 2 and 3. The code can also be shared in the same way that you could for a google doc. You can also add text and images to your notebook.\n",
        "\n",
        "To add a particular code or a snippet of text, use the +Code or +Text located on the top left of the notebook.\n",
        "\n",
        "To run the a particular group of codes, you can use the run button on the left-handed side of each line or simply use the short cut (Ctrl + Enter).\n",
        "\n",
        "To run the entire notebook, you can click Runtime --> Run All.\n",
        "\n",
        "To clear all the output, you can click Edit --> Clear all outputs"
      ]
    },
    {
      "cell_type": "markdown",
      "metadata": {
        "id": "mpXa5lQq-bNI"
      },
      "source": [
        "## **Part 2: General Python Introduction**"
      ]
    },
    {
      "cell_type": "markdown",
      "metadata": {
        "id": "wMpBHI0MAEN9"
      },
      "source": [
        "###**2.1 Why Python?**\n",
        "Python is a commonly used tool in data analysis and computer simulations. Python is interpreted (no need to compile the program before execution like C++), interactive (use a python prompt to test your snippet of code) and object-oriented (encapsulates code within objects). It is easy to understand and simplest making it a great language for the beginner-level programmers. Moreover, python uses indentations instead of brackets promoting good programming practices in structuring your code into an easily readable format.\n",
        "\n",
        "Python 2.7 has been the state-of-the-art for decades. However, with the introduction of python 3, the support for python 2 will soon discontinued. You are all encouraged to use python 3. There are some discrepancies between the syntaxs of the two versions, notably the print statement for example."
      ]
    },
    {
      "cell_type": "markdown",
      "metadata": {
        "id": "AwQHlHxo1CyC"
      },
      "source": [
        "### **2.2 Commenting the Code**\n",
        "It is always important to comment the code so that you can remember the purposes of certain parts of the code. You might be trying to use the code years from now, you might forget what you have written."
      ]
    },
    {
      "cell_type": "code",
      "metadata": {
        "id": "YaYScncQACtK"
      },
      "source": [
        "# This is a comment. You can use print statement to track where you are in the code.\n",
        "print(\"Hello World!\")\n",
        "print('Welcome to python!')   # This is an in-line comment. You can also use single quote, but double is preferred."
      ],
      "execution_count": null,
      "outputs": []
    },
    {
      "cell_type": "markdown",
      "metadata": {
        "id": "7t5W35QN7Igh"
      },
      "source": [
        "### **2.3 Variable Types**\n",
        "Declaring a variable types binds a variable to a particular type. This is required for a language like java and C++. However, for python, declaration of avariables is not required. Interestingly, the type of the variable may change during program execution as well. Though, doing so is not a good programming practice.\n",
        "\n",
        "Variable name can be any length and consists of a combination of lowercase letters, uppercase letters, digits, and underscores, though it cannot begin with an underscore. In normal convention, variable names (and function names) typically begin with a lowercase letter while class names utilize upper case letters."
      ]
    },
    {
      "cell_type": "markdown",
      "metadata": {
        "id": "iAbUh9f4_6QU"
      },
      "source": [
        "**2.3.1 Numbers**"
      ]
    },
    {
      "cell_type": "code",
      "metadata": {
        "id": "4Wk-mhxK_3B9"
      },
      "source": [
        "# Assigning an integer\n",
        "num1 = 100\n",
        "\n",
        "# Assigning a float (real values)\n",
        "num2 = 1.0\n",
        "\n",
        "# Print the value in the output. Note that the printed value is no longer a number but is instead a string.\n",
        "print(num1)\n",
        "print(num2)"
      ],
      "execution_count": null,
      "outputs": []
    },
    {
      "cell_type": "code",
      "metadata": {
        "id": "Be-SepDDugxq"
      },
      "source": [
        "num1    # You can also print the value by just typing the variable names"
      ],
      "execution_count": null,
      "outputs": []
    },
    {
      "cell_type": "code",
      "metadata": {
        "id": "g9oN-bNnuhBQ"
      },
      "source": [
        "num1\n",
        "num2    # However in the case that you type two variables, only the last variable is shown"
      ],
      "execution_count": null,
      "outputs": []
    },
    {
      "cell_type": "markdown",
      "metadata": {
        "id": "r6IgJG9LfHZj"
      },
      "source": [
        "The type() function takes a variable name as an argument and returns the current type of the variable."
      ]
    },
    {
      "cell_type": "code",
      "metadata": {
        "id": "helMayGme5tz"
      },
      "source": [
        "type(num1)"
      ],
      "execution_count": null,
      "outputs": []
    },
    {
      "cell_type": "code",
      "metadata": {
        "id": "8nP23IZFfFNY"
      },
      "source": [
        "type(num2)"
      ],
      "execution_count": null,
      "outputs": []
    },
    {
      "cell_type": "markdown",
      "metadata": {
        "id": "5ZXs9kdCrXa_"
      },
      "source": [
        "Converting between integer and float"
      ]
    },
    {
      "cell_type": "code",
      "metadata": {
        "id": "NQEoMvrErZrw"
      },
      "source": [
        "int(num2)"
      ],
      "execution_count": null,
      "outputs": []
    },
    {
      "cell_type": "code",
      "metadata": {
        "id": "ZwpkIBcSrb_p"
      },
      "source": [
        "float(num1)"
      ],
      "execution_count": null,
      "outputs": []
    },
    {
      "cell_type": "markdown",
      "metadata": {
        "id": "vu_FRjVE_toc"
      },
      "source": [
        "**2.3.2 Strings**\n",
        "\n",
        "Even though there are different ways that you can assign a string to a variable, I recommend using a consistent notation. In general, **a single quote is preferred for string and a double quote is preferred in print statement**."
      ]
    },
    {
      "cell_type": "code",
      "metadata": {
        "id": "3bwRmYPL2r_m"
      },
      "source": [
        "# Create a string variable using single quote.\n",
        "string_single = 'This is a string'\n",
        "\n",
        "# Create a string variable using double quotes.\n",
        "string_double = \"This is anoter string\"\n",
        "\n",
        "# Create a multi-line string variable using triple quote.\n",
        "string_triple = '''This is a multi-line string that\n",
        "covers more than\n",
        "one line'''"
      ],
      "execution_count": 9,
      "outputs": []
    },
    {
      "cell_type": "code",
      "metadata": {
        "id": "vjJrN43sfTDM"
      },
      "source": [
        "type(string_triple)"
      ],
      "execution_count": null,
      "outputs": []
    },
    {
      "cell_type": "code",
      "metadata": {
        "id": "xBwq38tx609v"
      },
      "source": [
        "string_single"
      ],
      "execution_count": null,
      "outputs": []
    },
    {
      "cell_type": "code",
      "metadata": {
        "id": "rizbGn5k6kas"
      },
      "source": [
        "string_double"
      ],
      "execution_count": null,
      "outputs": []
    },
    {
      "cell_type": "code",
      "metadata": {
        "id": "ZPaL-JyV6iKY"
      },
      "source": [
        "print(string_double)"
      ],
      "execution_count": null,
      "outputs": []
    },
    {
      "cell_type": "code",
      "metadata": {
        "id": "YaTsj_Xd6whe"
      },
      "source": [
        "string_triple"
      ],
      "execution_count": null,
      "outputs": []
    },
    {
      "cell_type": "code",
      "metadata": {
        "id": "QXj8BZoz6mmV"
      },
      "source": [
        "print(string_triple)"
      ],
      "execution_count": null,
      "outputs": []
    },
    {
      "cell_type": "markdown",
      "metadata": {
        "id": "lQKirSaaiKFr"
      },
      "source": [
        "We can also convert a number to a string or a string to a number."
      ]
    },
    {
      "cell_type": "code",
      "metadata": {
        "id": "_-7O7pchiOuK",
        "colab": {
          "base_uri": "https://localhost:8080/",
          "height": 35
        },
        "outputId": "2aaa65fe-dbe4-4135-cba2-b7570bb05498"
      },
      "source": [
        "num1 = 100\n",
        "str(num1)"
      ],
      "execution_count": 16,
      "outputs": [
        {
          "output_type": "execute_result",
          "data": {
            "application/vnd.google.colaboratory.intrinsic+json": {
              "type": "string"
            },
            "text/plain": [
              "'100'"
            ]
          },
          "metadata": {
            "tags": []
          },
          "execution_count": 16
        }
      ]
    },
    {
      "cell_type": "code",
      "metadata": {
        "id": "ArM706U1iVvk"
      },
      "source": [
        "num2 = 1.0\n",
        "str(num2)"
      ],
      "execution_count": null,
      "outputs": []
    },
    {
      "cell_type": "code",
      "metadata": {
        "id": "z_F92Vw_iaOi"
      },
      "source": [
        "# In order to call the value for pi, we need to first import the related library.\n",
        "import math\n",
        "math.pi"
      ],
      "execution_count": null,
      "outputs": []
    },
    {
      "cell_type": "code",
      "metadata": {
        "id": "yEB3OElEi5Zv"
      },
      "source": [
        "str(math.pi)"
      ],
      "execution_count": null,
      "outputs": []
    },
    {
      "cell_type": "code",
      "metadata": {
        "id": "53C7-bx-jG1s"
      },
      "source": [
        "format(math.pi, '.2f')"
      ],
      "execution_count": null,
      "outputs": []
    },
    {
      "cell_type": "markdown",
      "metadata": {
        "id": "O8awGA-nj50c"
      },
      "source": [
        "Strings concatenation(combining strings)"
      ]
    },
    {
      "cell_type": "code",
      "metadata": {
        "id": "Js_cahPLkPly"
      },
      "source": [
        "string1 = 'aero'\n",
        "string2 = 'space'\n",
        "\n",
        "string3 = string1 + string2\n",
        "\n",
        "print(string3)"
      ],
      "execution_count": null,
      "outputs": []
    },
    {
      "cell_type": "code",
      "metadata": {
        "id": "1VjvXIEnkgQr"
      },
      "source": [
        "string4 = string1 + ' ' + string2\n",
        "print(string4)"
      ],
      "execution_count": null,
      "outputs": []
    },
    {
      "cell_type": "code",
      "metadata": {
        "id": "fY779-0okmiK"
      },
      "source": [
        "string5 = string1 + '\\n' + string2\n",
        "print(string5)"
      ],
      "execution_count": null,
      "outputs": []
    },
    {
      "cell_type": "code",
      "metadata": {
        "id": "LRtjWp3cclsJ"
      },
      "source": [
        "print('Value of num1:', num1)"
      ],
      "execution_count": null,
      "outputs": []
    },
    {
      "cell_type": "markdown",
      "metadata": {
        "id": "FpzOZDP8AoAX"
      },
      "source": [
        "**2.3.3 Lists**\n",
        "\n",
        "Written as a set of comma-separated values."
      ]
    },
    {
      "cell_type": "code",
      "metadata": {
        "id": "MvmYn1S7ctZO"
      },
      "source": [
        "list1 = [0,1,2,3]\n",
        "list2 = ['python','java']\n",
        "list3 = ['geology','astronomy','aerospace engineering',10]"
      ],
      "execution_count": 25,
      "outputs": []
    },
    {
      "cell_type": "code",
      "metadata": {
        "id": "ZQ2XLhazed-t"
      },
      "source": [
        "type(list3)"
      ],
      "execution_count": null,
      "outputs": []
    },
    {
      "cell_type": "markdown",
      "metadata": {
        "id": "l48dUkGDehpS"
      },
      "source": [
        "Access the values in the list. Note that the first element has the index of 0. The last element has the index of -1."
      ]
    },
    {
      "cell_type": "code",
      "metadata": {
        "id": "48Wc9VbVgC8T"
      },
      "source": [
        "list3[0]"
      ],
      "execution_count": null,
      "outputs": []
    },
    {
      "cell_type": "code",
      "metadata": {
        "id": "yucv9lWaiCx_"
      },
      "source": [
        "list3[4]"
      ],
      "execution_count": null,
      "outputs": []
    },
    {
      "cell_type": "code",
      "metadata": {
        "id": "ODM_6FSfgKS6"
      },
      "source": [
        "list3[3]"
      ],
      "execution_count": null,
      "outputs": []
    },
    {
      "cell_type": "code",
      "metadata": {
        "id": "7H12_BLagNNb"
      },
      "source": [
        "list3[-1]"
      ],
      "execution_count": null,
      "outputs": []
    },
    {
      "cell_type": "code",
      "metadata": {
        "id": "2dFJCJELgOj_"
      },
      "source": [
        "list3[-2]"
      ],
      "execution_count": null,
      "outputs": []
    },
    {
      "cell_type": "code",
      "metadata": {
        "id": "VamNXN-wldmb"
      },
      "source": [
        "list3[1:3]"
      ],
      "execution_count": null,
      "outputs": []
    },
    {
      "cell_type": "code",
      "metadata": {
        "id": "MzHdByunlgoq"
      },
      "source": [
        "list3[3:1]"
      ],
      "execution_count": null,
      "outputs": []
    },
    {
      "cell_type": "markdown",
      "metadata": {
        "id": "B80SH0xQgZUp"
      },
      "source": [
        "\n",
        "len() is a build-in function that takes a variable name as an input and returns the length of that variable."
      ]
    },
    {
      "cell_type": "code",
      "metadata": {
        "id": "hOpyCwr6gQS0"
      },
      "source": [
        "len(list3)"
      ],
      "execution_count": null,
      "outputs": []
    },
    {
      "cell_type": "code",
      "metadata": {
        "id": "l7ghN8rggqpC"
      },
      "source": [
        "print(num1)\n",
        "len(num1)     # number has no \"length\""
      ],
      "execution_count": null,
      "outputs": []
    },
    {
      "cell_type": "code",
      "metadata": {
        "id": "8FpxZtaggoUh"
      },
      "source": [
        "print(string_single)\n",
        "len(string_single)"
      ],
      "execution_count": null,
      "outputs": []
    },
    {
      "cell_type": "markdown",
      "metadata": {
        "id": "7WpaQW1PkzBi"
      },
      "source": [
        "Updating lists"
      ]
    },
    {
      "cell_type": "code",
      "metadata": {
        "id": "w84PwFWfk1xv"
      },
      "source": [
        "list1 = [0,1,2,3]\n",
        "list1[3] = 5\n",
        "\n",
        "list1"
      ],
      "execution_count": null,
      "outputs": []
    },
    {
      "cell_type": "markdown",
      "metadata": {
        "id": "c98BaQhOjcQK"
      },
      "source": [
        "Combining lists"
      ]
    },
    {
      "cell_type": "code",
      "metadata": {
        "id": "ayAwTST8jeEA"
      },
      "source": [
        "list1 = [0,1,2,3]\n",
        "list2 = ['python','java']\n",
        "\n",
        "new_list = list1 + list2\n",
        "\n",
        "new_list"
      ],
      "execution_count": null,
      "outputs": []
    },
    {
      "cell_type": "markdown",
      "metadata": {
        "id": "g9f-UwoAmso6"
      },
      "source": [
        "Sorting lists"
      ]
    },
    {
      "cell_type": "code",
      "metadata": {
        "id": "TnLPuly_mqpr"
      },
      "source": [
        "# When you use sorting. You change the values of the actual variables\n",
        "list4 = [4,2,1,0]\n",
        "list4.sort()\n",
        "list4"
      ],
      "execution_count": null,
      "outputs": []
    },
    {
      "cell_type": "code",
      "metadata": {
        "id": "1NztSrBOmzBr"
      },
      "source": [
        "sorted_list = list4.sort()\n",
        "print(sorted_list)"
      ],
      "execution_count": null,
      "outputs": []
    },
    {
      "cell_type": "markdown",
      "metadata": {
        "id": "pyUO6dCYpEGS"
      },
      "source": [
        "**2.3.4 Boolean (True/False)**\n"
      ]
    },
    {
      "cell_type": "code",
      "metadata": {
        "id": "7aE9sPPQptaP"
      },
      "source": [
        "boolean1 = True   # note that the first letter must be uppercase\n",
        "boolean2 = False"
      ],
      "execution_count": null,
      "outputs": []
    },
    {
      "cell_type": "code",
      "metadata": {
        "id": "oJPd6tvQqTwL"
      },
      "source": [
        "print(boolean1)\n",
        "print(boolean2)"
      ],
      "execution_count": null,
      "outputs": []
    },
    {
      "cell_type": "code",
      "metadata": {
        "id": "NkkMnry9p44w"
      },
      "source": [
        "type(boolean1)"
      ],
      "execution_count": null,
      "outputs": []
    },
    {
      "cell_type": "code",
      "metadata": {
        "id": "AXNVn_UBp6vz"
      },
      "source": [
        "boolean3 = not boolean1\n",
        "print(boolean3)"
      ],
      "execution_count": null,
      "outputs": []
    },
    {
      "cell_type": "markdown",
      "metadata": {
        "id": "8fIgdqZhnhUM"
      },
      "source": [
        "***We won't have time to go into details about other structure types (e.g. tuples, dictionaries, numpy array).***"
      ]
    },
    {
      "cell_type": "markdown",
      "metadata": {
        "id": "6PC4P5hfA8AP"
      },
      "source": [
        "### **2.4 Mathematical Operations**"
      ]
    },
    {
      "cell_type": "markdown",
      "metadata": {
        "id": "Eyv1_upjoopC"
      },
      "source": [
        "Addtion, Subtraction, Multiplication, Division"
      ]
    },
    {
      "cell_type": "code",
      "metadata": {
        "id": "viLSBWHYonKl"
      },
      "source": [
        "a = 5.0   # It's always nice to add .0 to indicate that we want to variable to be float\n",
        "b = 3.0\n",
        "\n",
        "print(a+b)\n",
        "print(a-b)\n",
        "print(a*b)\n",
        "print(a/b)"
      ],
      "execution_count": null,
      "outputs": []
    },
    {
      "cell_type": "markdown",
      "metadata": {
        "id": "VtmSLqK9otyT"
      },
      "source": [
        "Modulus"
      ]
    },
    {
      "cell_type": "code",
      "metadata": {
        "id": "IVT_NesKq_zd"
      },
      "source": [
        "5 % 3   # The remainder of dividing 5 by 3"
      ],
      "execution_count": null,
      "outputs": []
    },
    {
      "cell_type": "code",
      "metadata": {
        "id": "fxkyj7X8rtIK"
      },
      "source": [
        "25 % 6"
      ],
      "execution_count": null,
      "outputs": []
    },
    {
      "cell_type": "markdown",
      "metadata": {
        "id": "J2VBDQY3ou1z"
      },
      "source": [
        "Exponent"
      ]
    },
    {
      "cell_type": "code",
      "metadata": {
        "id": "vShZGtt4ryH9"
      },
      "source": [
        "5**3"
      ],
      "execution_count": null,
      "outputs": []
    },
    {
      "cell_type": "code",
      "metadata": {
        "id": "FlmtB8s8r6iu"
      },
      "source": [
        "5**(-1)"
      ],
      "execution_count": null,
      "outputs": []
    },
    {
      "cell_type": "code",
      "metadata": {
        "id": "hgoGEg7Lr91I"
      },
      "source": [
        "5**-1   # You can neglect the paranthesis around -1, but this is not a good programming practices"
      ],
      "execution_count": null,
      "outputs": []
    },
    {
      "cell_type": "markdown",
      "metadata": {
        "id": "nZGEhavKoxDz"
      },
      "source": [
        "Floor function"
      ]
    },
    {
      "cell_type": "code",
      "metadata": {
        "id": "TM0z0G8gqo6B"
      },
      "source": [
        "5/2"
      ],
      "execution_count": null,
      "outputs": []
    },
    {
      "cell_type": "code",
      "metadata": {
        "id": "l59tEdIPsLfe"
      },
      "source": [
        "5//2   # Floor function will round down the result to the nearest integer"
      ],
      "execution_count": null,
      "outputs": []
    },
    {
      "cell_type": "markdown",
      "metadata": {
        "id": "jQss3aUP7v38"
      },
      "source": [
        "Pre-definied function can be done by using the numpy library."
      ]
    },
    {
      "cell_type": "code",
      "metadata": {
        "id": "LXPtNFMb8cUK"
      },
      "source": [
        "import math   # now we can call any function in the math library by using math.function()\n",
        "print(math.pi)\n",
        "print(math.e)"
      ],
      "execution_count": null,
      "outputs": []
    },
    {
      "cell_type": "code",
      "metadata": {
        "id": "RaHT8wv_8gB5"
      },
      "source": [
        "math.sin(90)    # the argument in math.sin() is assumed to be in radian"
      ],
      "execution_count": null,
      "outputs": []
    },
    {
      "cell_type": "code",
      "metadata": {
        "id": "FZhTbffV81Jy"
      },
      "source": [
        "math.sin(math.radians(90))"
      ],
      "execution_count": null,
      "outputs": []
    },
    {
      "cell_type": "code",
      "metadata": {
        "id": "Fz6Msejk9e7m"
      },
      "source": [
        "math.degrees(math.asin(1.0))"
      ],
      "execution_count": null,
      "outputs": []
    },
    {
      "cell_type": "code",
      "metadata": {
        "id": "4gl-LfZ-877S"
      },
      "source": [
        "math.exp(1)   # math.exp(x) returns e**x"
      ],
      "execution_count": null,
      "outputs": []
    },
    {
      "cell_type": "code",
      "metadata": {
        "id": "hoNEIERq9EVw"
      },
      "source": [
        "math.log10(10)  # math.log10(x) returns base 10 logarithm of x"
      ],
      "execution_count": null,
      "outputs": []
    },
    {
      "cell_type": "code",
      "metadata": {
        "id": "gAWgbblr9OEt"
      },
      "source": [
        "math.log(math.e)  # math.log(x) returns natural logarithm of x"
      ],
      "execution_count": null,
      "outputs": []
    },
    {
      "cell_type": "code",
      "metadata": {
        "id": "QbmiUm729Tfc"
      },
      "source": [
        "math.log(8,2)   # math.log(x,y) returns base y logarithm of x"
      ],
      "execution_count": null,
      "outputs": []
    },
    {
      "cell_type": "code",
      "metadata": {
        "id": "d1JlEUoZ9ckH"
      },
      "source": [
        "math.floor(5.2)"
      ],
      "execution_count": null,
      "outputs": []
    },
    {
      "cell_type": "markdown",
      "metadata": {
        "id": "tIypK7hVqpPN"
      },
      "source": [
        "Boolean Arithmetic"
      ]
    },
    {
      "cell_type": "code",
      "metadata": {
        "id": "gwJPNahwscKt"
      },
      "source": [
        "a = True\n",
        "b = False"
      ],
      "execution_count": null,
      "outputs": []
    },
    {
      "cell_type": "code",
      "metadata": {
        "id": "QMlS9YS1t6U0"
      },
      "source": [
        "a or b"
      ],
      "execution_count": null,
      "outputs": []
    },
    {
      "cell_type": "code",
      "metadata": {
        "id": "YSqU-h2Et-kR"
      },
      "source": [
        "a and b"
      ],
      "execution_count": null,
      "outputs": []
    },
    {
      "cell_type": "code",
      "metadata": {
        "id": "kNfAkU6_uArz"
      },
      "source": [
        "not a"
      ],
      "execution_count": null,
      "outputs": []
    },
    {
      "cell_type": "markdown",
      "metadata": {
        "id": "QWbstskCpJfD"
      },
      "source": [
        "Comparison Operators"
      ]
    },
    {
      "cell_type": "code",
      "metadata": {
        "id": "ctRBXy2quP9o"
      },
      "source": [
        "a = 5\n",
        "b = 2\n",
        "c = 5\n",
        "print(a == b)  # this asks whether a is equal to b\n",
        "print(a != b)  # this asks whether a is not equal to b\n",
        "print(c < b)   # this asks whether c is less than b\n",
        "print(c <= a)  # this asks whether c is less than or equal to a"
      ],
      "execution_count": null,
      "outputs": []
    },
    {
      "cell_type": "code",
      "metadata": {
        "id": "d8NRsFYEuBf-"
      },
      "source": [
        "a = True\n",
        "b = False\n",
        "\n",
        "print(a == b)  # this asks whether a is equal to b\n",
        "print(a != b)  # this asks whether a is not equal to b"
      ],
      "execution_count": null,
      "outputs": []
    },
    {
      "cell_type": "markdown",
      "metadata": {
        "id": "1L2dKc8WBEwl"
      },
      "source": [
        "### **2.5 If Statements**\n",
        "**The indentation and the colon (:) is important!**\n",
        "\n",
        "Simplest structure\n",
        "```\n",
        "Statement a\n",
        "if (statement 1):\n",
        "  do something if statement 1 is true\n",
        "Statement b\n",
        "```\n",
        "A little more complex structure\n",
        "```\n",
        "Statement a\n",
        "if (statement 1):\n",
        "  do something if statement 1 is true\n",
        "else:\n",
        "  do something else if statement 1 is false\n",
        "Statement b\n",
        "```\n",
        "Even more complex structure. elif = else if\n",
        "```\n",
        "Statement a\n",
        "if (statement 1):\n",
        "  do something if statement 1 is true\n",
        "elif (statement 2):\n",
        "  do something if statement 1 is false and statement 2 is true\n",
        "else:\n",
        "  do something if statement 1 and 2 are false\n",
        "Statement b\n",
        "```\n",
        "And the elif (else if) can keeps going forever...\n",
        "```\n",
        "Statement a\n",
        "if (statement 1):\n",
        "  do something if statement 1 is true\n",
        "elif (statement 2):\n",
        "  do something if statement 1 is false and statement 2 is true\n",
        "elif (statement 3):\n",
        "  do something if statement 1 and 2 are false and statement 3 is true\n",
        "elif (statement 4):\n",
        "  do something if statement 1, 2 and 3 are false and statement 4 is true\n",
        "else:\n",
        "  do something if statement 1, 2, 3 and 4 are false\n",
        "Statement b\n",
        "```\n",
        "\n"
      ]
    },
    {
      "cell_type": "code",
      "metadata": {
        "id": "KihfknyXm7Os"
      },
      "source": [
        "a = 2\n",
        "b = 10\n",
        "if b > a:\n",
        "  print(\"b is greater than a\")\n",
        "c = 3"
      ],
      "execution_count": null,
      "outputs": []
    },
    {
      "cell_type": "code",
      "metadata": {
        "id": "t48nQDaLrVyv"
      },
      "source": [
        "a = 2\n",
        "b = 10\n",
        "if b < a:\n",
        "  print(\"b is lesser than a\")\n",
        "c = 3"
      ],
      "execution_count": null,
      "outputs": []
    },
    {
      "cell_type": "code",
      "metadata": {
        "id": "v5PCyj21uBIs"
      },
      "source": [
        "a = 2\n",
        "b = 10\n",
        "c = 5\n",
        "if c > a and b > a:\n",
        "  print(\"a is the smallest\")"
      ],
      "execution_count": null,
      "outputs": []
    },
    {
      "cell_type": "code",
      "metadata": {
        "id": "E3JCHII7gHg_"
      },
      "source": [
        "a = 2\n",
        "b = 10\n",
        "c = 5\n",
        "if (c > a and b > a):   # using parathesis in a complicated code can help with your organization\n",
        "  print(\"a is the smallest\")"
      ],
      "execution_count": null,
      "outputs": []
    },
    {
      "cell_type": "code",
      "metadata": {
        "id": "5gshHeXNuTM5"
      },
      "source": [
        "# what's wrong with the logic in this conditional statement?\n",
        "a = 7\n",
        "b = 10\n",
        "c = 5\n",
        "if c > a and b > a:\n",
        "  print(\"a is not the smallest\")"
      ],
      "execution_count": null,
      "outputs": []
    },
    {
      "cell_type": "code",
      "metadata": {
        "id": "odl9rd9vsPS9"
      },
      "source": [
        "a = 2\n",
        "b = 10\n",
        "if b < a:\n",
        "  print(\"b is lesser than a\")\n",
        "elif b > a:\n",
        "  print(\"b is greater than a\")\n",
        "c = 3"
      ],
      "execution_count": null,
      "outputs": []
    },
    {
      "cell_type": "code",
      "metadata": {
        "id": "5cIl2a0qsx9n"
      },
      "source": [
        "a = 2\n",
        "b = 2\n",
        "if b < a:\n",
        "  print(\"b is lesser than a\")\n",
        "elif b > a:\n",
        "  print(\"b is greater than a\")\n",
        "else:\n",
        "  print(\"b is equal to a\")\n",
        "c = 3"
      ],
      "execution_count": null,
      "outputs": []
    },
    {
      "cell_type": "markdown",
      "metadata": {
        "id": "sOugKJBmtIXJ"
      },
      "source": [
        "Mini exercise: What wrong with these codes?"
      ]
    },
    {
      "cell_type": "code",
      "metadata": {
        "id": "LgaUGgqktO0Z"
      },
      "source": [
        "a = 2\n",
        "b = 5\n",
        "if b > a:\n",
        "print(\"b is greater than a\")"
      ],
      "execution_count": null,
      "outputs": []
    },
    {
      "cell_type": "code",
      "metadata": {
        "id": "izRNzuETtkQs"
      },
      "source": [
        "a = 2\n",
        "b = 5\n",
        "if b < a:\n",
        "  print(\"b is lesser than a\")\n",
        "else\n",
        "  print(\"b is not lesser than a\")"
      ],
      "execution_count": null,
      "outputs": []
    },
    {
      "cell_type": "code",
      "metadata": {
        "id": "TogjjI_Ks6ey"
      },
      "source": [
        "a = 2\n",
        "b = 2\n",
        "if b = a:\n",
        "  print(\"b is equal to a\")"
      ],
      "execution_count": null,
      "outputs": []
    },
    {
      "cell_type": "code",
      "metadata": {
        "id": "VK3e1QKktG9q"
      },
      "source": [
        "a = 2\n",
        "b = 2\n",
        "if b == a:\n",
        "  print(\"b is equal to a\")\n",
        "else if b > a:\n",
        "  print(\"b is less than a\")\n",
        "else:\n",
        "  print(\"b is greater than a\")\n",
        "c = 3"
      ],
      "execution_count": null,
      "outputs": []
    },
    {
      "cell_type": "markdown",
      "metadata": {
        "id": "a-jiqGZUr4gM"
      },
      "source": [
        "If you only have one statement to execute under if, you can also write it in one-line but I highly advised against it because it makes the structure of your code hard to visualize. **The indentations is very helpful in visualization!!**"
      ]
    },
    {
      "cell_type": "code",
      "metadata": {
        "id": "MPzNHAnZr2gU"
      },
      "source": [
        "if b > a: print(\"b is greater than a\")"
      ],
      "execution_count": null,
      "outputs": []
    },
    {
      "cell_type": "markdown",
      "metadata": {
        "id": "KlcNvYN1BLc0"
      },
      "source": [
        "### **2.6 For Loops**\n",
        "Again, don't forget the indentation and colon.\n",
        "\n",
        "Simplest structure\n",
        "\n",
        "\n",
        "```\n",
        "statement a\n",
        "for variable is list1:\n",
        "  do something while iterating over all variable is list1\n",
        "statement b\n",
        "```\n",
        "\n"
      ]
    },
    {
      "cell_type": "code",
      "metadata": {
        "id": "4jwYPcbjvHlW"
      },
      "source": [
        "language = ['python', 'java', 'C++']\n",
        "for x in language:\n",
        "  print(x)"
      ],
      "execution_count": null,
      "outputs": []
    },
    {
      "cell_type": "markdown",
      "metadata": {
        "id": "gV_prcHS7oB3"
      },
      "source": [
        "Besides looping through a list, you can also loop through a string. But it's not very helpful."
      ]
    },
    {
      "cell_type": "code",
      "metadata": {
        "id": "5zQkeQmW7lJB"
      },
      "source": [
        "for x in \"python\":\n",
        "  print(x)"
      ],
      "execution_count": null,
      "outputs": []
    },
    {
      "cell_type": "markdown",
      "metadata": {
        "id": "R34wSys2wgVL"
      },
      "source": [
        "range() returns a sequence of numbers starting from 0 by default. It is often used when we want to loop over something for a certain amount of time."
      ]
    },
    {
      "cell_type": "code",
      "metadata": {
        "id": "qPpZ04ANvIMt"
      },
      "source": [
        "for x in range(5):\n",
        "  print(x)"
      ],
      "execution_count": null,
      "outputs": []
    },
    {
      "cell_type": "code",
      "metadata": {
        "id": "vtNxdOopDrTJ"
      },
      "source": [
        "for x in range(2,5):\n",
        "  print(x)"
      ],
      "execution_count": null,
      "outputs": []
    },
    {
      "cell_type": "code",
      "metadata": {
        "id": "bV85UZFdD82Q"
      },
      "source": [
        "# For loop can be useful for finding factorials\n",
        "num = 1\n",
        "for x in range(1,10):\n",
        "  num = num * x\n",
        "print(num)\n",
        "# Is this 9! or 10!?"
      ],
      "execution_count": null,
      "outputs": []
    },
    {
      "cell_type": "code",
      "metadata": {
        "id": "5-8s309JEx6-"
      },
      "source": [
        "# What about if you want to find\n",
        "num = 1\n",
        "for i in range(1,10):\n",
        "  num = num * i\n",
        "print(num)"
      ],
      "execution_count": null,
      "outputs": []
    },
    {
      "cell_type": "markdown",
      "metadata": {
        "id": "dwC8QlleEsBn"
      },
      "source": [
        "The break statement is used to stop the loop before it gets a chance to loop through all items."
      ]
    },
    {
      "cell_type": "code",
      "metadata": {
        "id": "cChkf5m9Er15"
      },
      "source": [
        "language = ['python', 'java', 'C++']\n",
        "for x in language:\n",
        "  if x == \"java\":\n",
        "    break\n",
        "  print(x)"
      ],
      "execution_count": null,
      "outputs": []
    },
    {
      "cell_type": "markdown",
      "metadata": {
        "id": "6ANFqkUjEuqy"
      },
      "source": [
        "The continue statement is used to stop the current iteration and continue the next."
      ]
    },
    {
      "cell_type": "code",
      "metadata": {
        "id": "ZtVFudbKEuza"
      },
      "source": [
        "language = ['python', 'java', 'C++']\n",
        "for x in language:\n",
        "  if x == \"java\":\n",
        "    continue\n",
        "  print(x)"
      ],
      "execution_count": null,
      "outputs": []
    },
    {
      "cell_type": "code",
      "metadata": {
        "id": "4HKk_T9aAGHJ"
      },
      "source": [
        "string1 = 'spacegeneration'\n",
        "dummy = 0\n",
        "\n",
        "for i in string1:\n",
        "  dummy = dummy + 1\n",
        "  print(string1[0:dummy])\n",
        "\n",
        "for i in string1:\n",
        "  dummy = dummy - 1\n",
        "  print(string1[0:dummy])"
      ],
      "execution_count": null,
      "outputs": []
    },
    {
      "cell_type": "markdown",
      "metadata": {
        "id": "rYZF1D7VBOkj"
      },
      "source": [
        "### **2.7 While Loops**\n",
        "\n",
        "Simplest structure\n",
        "\n",
        "```\n",
        "statement a\n",
        "while (statement 1):\n",
        "  do something as long as statement 1 is true, otherwise exits the while loop\n",
        "statement b\n",
        "```\n",
        "\n",
        "You can also incorporate the else statement\n",
        "\n",
        "\n",
        "```\n",
        "statement a\n",
        "while (statement 1):\n",
        "  do something as long as statement 1 is true, otherwise exits the while loop\n",
        "else:\n",
        "  do something else if statement 1 is false, then exits the while loop\n",
        "statement b\n",
        "```\n",
        "\n"
      ]
    },
    {
      "cell_type": "code",
      "metadata": {
        "id": "yoXbDtCJCB1G"
      },
      "source": [
        "i = 1\n",
        "while i < 6:\n",
        "  print(i)\n",
        "  i += 1    # This is a short hand for a statement: i = i + 1"
      ],
      "execution_count": null,
      "outputs": []
    },
    {
      "cell_type": "code",
      "metadata": {
        "id": "DxIck4sng2T9"
      },
      "source": [
        "i = 1\n",
        "while i < 6:\n",
        "  print(i)"
      ],
      "execution_count": null,
      "outputs": []
    },
    {
      "cell_type": "code",
      "metadata": {
        "id": "ZUPyMMCShFJF"
      },
      "source": [
        "i = 1\n",
        "while i < 6:\n",
        "  print(i)\n",
        "  i += 1\n",
        "else:\n",
        "  print(\"i is no longer less than 6\")"
      ],
      "execution_count": null,
      "outputs": []
    },
    {
      "cell_type": "markdown",
      "metadata": {
        "id": "QwxZOxJ_CCXk"
      },
      "source": [
        "### **2.8 Useful Functions**"
      ]
    },
    {
      "cell_type": "code",
      "metadata": {
        "id": "QkJ7RbiKDfAw"
      },
      "source": [
        "round(2.675,2)  # round(x,y) rounds the number x to the nearest y decimal points"
      ],
      "execution_count": null,
      "outputs": []
    },
    {
      "cell_type": "code",
      "metadata": {
        "id": "fUUp3KiIAF4g"
      },
      "source": [
        "data = [1,2,3,4,2]\n",
        "sum(data)"
      ],
      "execution_count": null,
      "outputs": []
    },
    {
      "cell_type": "code",
      "metadata": {
        "id": "VmPPL7b0Hpg4"
      },
      "source": [
        "import numpy as np\n",
        "data = [1,2,3,4,2]\n",
        "print(\"Average: \", np.average(data))\n",
        "print(\"Median: \", np.median(data))\n",
        "print(\"Sum: \", np.sum(data))\n",
        "print(\"Standard Deviation: \", np.std(data))"
      ],
      "execution_count": null,
      "outputs": []
    },
    {
      "cell_type": "code",
      "metadata": {
        "id": "EMRw-goAIE3m"
      },
      "source": [
        "print('%.2f' %np.std(data))\n",
        "print('%.5f' %np.std(data))"
      ],
      "execution_count": null,
      "outputs": []
    },
    {
      "cell_type": "code",
      "metadata": {
        "id": "u-0_u7hmIKOU"
      },
      "source": [
        "x = 1\n",
        "print('%04d' %x)"
      ],
      "execution_count": null,
      "outputs": []
    },
    {
      "cell_type": "code",
      "metadata": {
        "id": "25GTPs1W_QPb"
      },
      "source": [
        "# Absolute value\n",
        "np.abs(-5.2)"
      ],
      "execution_count": null,
      "outputs": []
    },
    {
      "cell_type": "code",
      "metadata": {
        "id": "6GWFHr-1_UHL"
      },
      "source": [
        "# Floor function\n",
        "np.floor(5.2)"
      ],
      "execution_count": null,
      "outputs": []
    },
    {
      "cell_type": "code",
      "metadata": {
        "id": "xEcsQjHd_YXr"
      },
      "source": [
        "np.floor(-5.2)"
      ],
      "execution_count": null,
      "outputs": []
    },
    {
      "cell_type": "code",
      "metadata": {
        "id": "tt7QZRzU_a25"
      },
      "source": [
        "# Ceiling function\n",
        "np.ceil(5.2)"
      ],
      "execution_count": null,
      "outputs": []
    },
    {
      "cell_type": "markdown",
      "metadata": {
        "id": "36842o7YBZ47"
      },
      "source": [
        "### **2.9 List Comprehension**"
      ]
    },
    {
      "cell_type": "code",
      "metadata": {
        "id": "nmZvWBxo_i0r"
      },
      "source": [
        "letters = [i for i in 'python' ]\n",
        "letters"
      ],
      "execution_count": null,
      "outputs": []
    },
    {
      "cell_type": "code",
      "metadata": {
        "id": "PUGAfkLh_7-j"
      },
      "source": [
        "list1 = [i for i in range(10)]\n",
        "list1"
      ],
      "execution_count": null,
      "outputs": []
    },
    {
      "cell_type": "code",
      "metadata": {
        "id": "CB9znqveAPLp"
      },
      "source": [
        "number_list = [ x for x in range(20) if x % 2 == 0]\n",
        "number_list"
      ],
      "execution_count": null,
      "outputs": []
    },
    {
      "cell_type": "markdown",
      "metadata": {
        "id": "0mYzCv8_Ceg5"
      },
      "source": [
        "### **2.10 Random Number Generator**\n",
        "It basically uses the value of the current time clock in milliseconds. So in some sense, this is not truely random number generator. We call this a \"pseudo\" random number generator."
      ]
    },
    {
      "cell_type": "code",
      "metadata": {
        "id": "V8Lt9GtdAxhv"
      },
      "source": [
        "import random\n",
        "random.choice(['rock','paper','scissor'])"
      ],
      "execution_count": null,
      "outputs": []
    },
    {
      "cell_type": "code",
      "metadata": {
        "id": "8CunUJnOA8Ld"
      },
      "source": [
        "random.randrange(10)"
      ],
      "execution_count": null,
      "outputs": []
    },
    {
      "cell_type": "code",
      "metadata": {
        "id": "yr_KmNfQB4X8"
      },
      "source": [
        "random.randint(1, 10)   # choose a random integer between 1 and 10 (both 1 and 10 are included)"
      ],
      "execution_count": null,
      "outputs": []
    },
    {
      "cell_type": "code",
      "metadata": {
        "id": "Z9ANQvdLBDJa"
      },
      "source": [
        "random.random()   # choose random float number between 0 and 1"
      ],
      "execution_count": null,
      "outputs": []
    },
    {
      "cell_type": "code",
      "metadata": {
        "id": "92AJgPigBcUi"
      },
      "source": [
        "list1 = ['rock','paper','scissor']\n",
        "random.shuffle(list1)\n",
        "list1"
      ],
      "execution_count": null,
      "outputs": []
    },
    {
      "cell_type": "code",
      "metadata": {
        "id": "lFaXjVIeBpOD"
      },
      "source": [
        "random.uniform(2,5)   # choose random number between the two limits; the upper bound is excluded"
      ],
      "execution_count": null,
      "outputs": []
    },
    {
      "cell_type": "markdown",
      "metadata": {
        "id": "m-ZNz6ll-S6O"
      },
      "source": [
        "### **2.11 Representation Errors**\n",
        "Computer uses binary representation and not all numbers can be prefectly represented in this representation. As a result, there is a rounding error. This error is miniscule but once accumulated over a large for loop can create problems."
      ]
    },
    {
      "cell_type": "code",
      "metadata": {
        "id": "oIcmgV2v-WZ4"
      },
      "source": [
        "0.1 + 0.2"
      ],
      "execution_count": null,
      "outputs": []
    },
    {
      "cell_type": "markdown",
      "metadata": {
        "id": "9D7l1eAYBdJ6"
      },
      "source": [
        "### **2.12 Functions**\n",
        "\n",
        "You can write a function if there are a set of operations that you will be using it for multiple times. In general, it will take in a few values. Do some operations. Then, return a few values. Any variables used in the functions are **local variables** instead of being **global variables**, so if you call those local variables outside the functions, it will not work. You can also have functions without input value or output value.\n",
        "\n",
        "Here is the simplest structure of functions:\n",
        "```\n",
        "def function_name(input value a, input value b):\n",
        "  statement 1\n",
        "  statement 2\n",
        "  return (output value a, output value b)\n",
        "```\n",
        "\n"
      ]
    },
    {
      "cell_type": "code",
      "metadata": {
        "id": "RFNj13WAEdfD"
      },
      "source": [
        "def test():\n",
        "  return \"This function works.\""
      ],
      "execution_count": null,
      "outputs": []
    },
    {
      "cell_type": "code",
      "metadata": {
        "id": "JpvjuqpoEpUk"
      },
      "source": [
        "test()"
      ],
      "execution_count": null,
      "outputs": []
    },
    {
      "cell_type": "code",
      "metadata": {
        "id": "vf1tixFfBrZs"
      },
      "source": [
        "def printme(x):\n",
        "   print(\"Value :\", x)\n",
        "   return"
      ],
      "execution_count": null,
      "outputs": []
    },
    {
      "cell_type": "code",
      "metadata": {
        "id": "1Lu3_bLQDTTu"
      },
      "source": [
        "printme('python')"
      ],
      "execution_count": null,
      "outputs": []
    },
    {
      "cell_type": "code",
      "metadata": {
        "id": "Kythbo7sDXI5"
      },
      "source": [
        "# Linear mapping: y=mx+c\n",
        "def linear(m,x,c):\n",
        "  linear_calculation = m*x + c\n",
        "  return linear_calculation"
      ],
      "execution_count": null,
      "outputs": []
    },
    {
      "cell_type": "code",
      "metadata": {
        "id": "kC0obZa5FICO"
      },
      "source": [
        "linear(5,1,2)"
      ],
      "execution_count": null,
      "outputs": []
    },
    {
      "cell_type": "code",
      "metadata": {
        "id": "d_jY8F3RFIRr"
      },
      "source": [
        "linear_calculation    # This value does not exist here because it is a local variable inside the function!"
      ],
      "execution_count": null,
      "outputs": []
    },
    {
      "cell_type": "code",
      "metadata": {
        "id": "uBDfgWYBFFVj"
      },
      "source": [
        "# Linear mapping: y=mx+c\n",
        "def linear(m,x,c):\n",
        "  linear_calculation = m*x + c\n",
        "  return m*x + c"
      ],
      "execution_count": null,
      "outputs": []
    },
    {
      "cell_type": "code",
      "metadata": {
        "id": "sQ3K-aL8DvTQ"
      },
      "source": [
        "linear(5,1,2)"
      ],
      "execution_count": null,
      "outputs": []
    },
    {
      "cell_type": "code",
      "metadata": {
        "id": "De1fO4BZDc6Z"
      },
      "source": [
        "x = [0,1,2,3,4,5]\n",
        "y = [linear(2,x[i],5) for i in range(len(x))]\n",
        "y"
      ],
      "execution_count": null,
      "outputs": []
    },
    {
      "cell_type": "code",
      "metadata": {
        "id": "Q6bm3itzEQzl"
      },
      "source": [
        "# This function returns multiple values\n",
        "def multitask(a): \n",
        "    return a**2, a**3"
      ],
      "execution_count": null,
      "outputs": []
    },
    {
      "cell_type": "code",
      "metadata": {
        "id": "d_Hv-g0gFR3z"
      },
      "source": [
        "multitask(2)    # It's now returning a tuple, which is a data type that we didn't have time to go over..."
      ],
      "execution_count": null,
      "outputs": []
    },
    {
      "cell_type": "markdown",
      "metadata": {
        "id": "GA1xWlTJCHlV"
      },
      "source": [
        "### **2.13 Plotting with matplotlib**\n",
        "I have seen people using different styles of coding for matplotlib. What I will be showing here is based on my own personal style and it might not be the easiest/simplest style\n",
        "\n",
        "```\n",
        "# This is formatted as code\n",
        "```\n"
      ]
    },
    {
      "cell_type": "code",
      "metadata": {
        "id": "8kkWMOTbFg36"
      },
      "source": [
        "import matplotlib.pyplot as plt   # now we can call every functions in matplotlib by using plt.function()\n",
        "x = range(10)\n",
        "y = [i*2*random.random() for i in range(10)]"
      ],
      "execution_count": null,
      "outputs": []
    },
    {
      "cell_type": "code",
      "metadata": {
        "id": "OoFCmWjNHEQF"
      },
      "source": [
        "plt.plot(x,y)\n",
        "plt.show()"
      ],
      "execution_count": null,
      "outputs": []
    },
    {
      "cell_type": "code",
      "metadata": {
        "id": "w1f3W1cMHa1_"
      },
      "source": [
        "plt.plot(x,y)\n",
        "plt.title(\"Titile\")\n",
        "plt.xlabel(\"x label (unit)\")\n",
        "plt.ylabel(\"y label (unit)\")\n",
        "plt.show()"
      ],
      "execution_count": null,
      "outputs": []
    },
    {
      "cell_type": "code",
      "metadata": {
        "id": "D_StAHdBHrTD"
      },
      "source": [
        "plt.plot(x,y)\n",
        "plt.title(\"Titile\",fontsize=16)\n",
        "plt.xlabel(\"x label (unit)\",fontsize=14)\n",
        "plt.ylabel(\"y label (unit)\",fontsize=14)\n",
        "plt.show()"
      ],
      "execution_count": null,
      "outputs": []
    },
    {
      "cell_type": "code",
      "metadata": {
        "id": "ARl7j7n1JEJr"
      },
      "source": [
        "plt.plot(x,y,'r--')\n",
        "plt.show()"
      ],
      "execution_count": null,
      "outputs": []
    },
    {
      "cell_type": "code",
      "metadata": {
        "id": "EuUJ5j-rIQ8k"
      },
      "source": [
        "plt.plot(x,y,'r.')\n",
        "plt.show()"
      ],
      "execution_count": null,
      "outputs": []
    },
    {
      "cell_type": "code",
      "metadata": {
        "id": "QXwnm2iOIV7g"
      },
      "source": [
        "plt.plot(x,y,'s', markersize=10, markerfacecolor='w',\n",
        "         markeredgewidth=.5, markeredgecolor='r')\n",
        "plt.show()"
      ],
      "execution_count": null,
      "outputs": []
    },
    {
      "cell_type": "code",
      "metadata": {
        "id": "Kbsso9FbICcT"
      },
      "source": [
        "plt.scatter(x,y)\n",
        "plt.show()"
      ],
      "execution_count": null,
      "outputs": []
    },
    {
      "cell_type": "code",
      "metadata": {
        "id": "oMcLNOZ2I2ql"
      },
      "source": [
        "plt.scatter(x,y,s=50,c='k',marker='^')\n",
        "plt.show()"
      ],
      "execution_count": null,
      "outputs": []
    },
    {
      "cell_type": "markdown",
      "metadata": {
        "id": "MnU_dRvtJs5P"
      },
      "source": [
        "### **2.14 Simple Linear Regression Example**\n",
        "The following code is modified from https://scipy-cookbook.readthedocs.io/items/LinearRegression.html\n"
      ]
    },
    {
      "cell_type": "code",
      "metadata": {
        "id": "hgRThpefJRZW"
      },
      "source": [
        "import numpy as np\n",
        "import matplotlib.pyplot as plt\n",
        "from scipy import stats\n",
        "\n",
        "# Linear regression example\n",
        "# This is a very simple example of using two scipy tools \n",
        "# for linear regression, polyfit and stats.linregress\n",
        "\n",
        "# Sample data creation\n",
        "\n",
        "# number of points \n",
        "n = 50\n",
        "t = np.linspace(-5,5,n)\n",
        "# parameters\n",
        "a = 0.8\n",
        "b = -4\n",
        "x = np.polyval([a, b], t)  # polyval(p, x) is p[0]*x**(N-1) + p[1]*x**(N-2) + ... + p[N-2]*x + p[N-1]\n",
        "# add some noise\n",
        "xn = x + np.random.randn(n)\n",
        "\n",
        "# Linear regressison -polyfit - polyfit can be used other orders polys\n",
        "(ar, br) = np.polyfit(t, xn, 1)\n",
        "xr = np.polyval([ar, br], t)  # regression result\n",
        "# compute the mean square error\n",
        "err = np.sqrt(sum((xr - xn)**2)/n)\n",
        "print('Linear regression using polyfit')\n",
        "print('parameters: a=%.2f b=%.2f \\nregression: a=%.2f b=%.2f, ms error= %.3f' % (a, b, ar, br, err))\n",
        "print('\\n')\n",
        "\n",
        "# Linear regression using stats.linregress\n",
        "(a_s, b_s, r, tt, stderr) = stats.linregress(t, xn)\n",
        "print('Linear regression using stats.linregress')\n",
        "print('parameters: a=%.2f b=%.2f \\nregression: a=%.2f b=%.2f, std error= %.3f' % (a,b,a_s,b_s,stderr))\n",
        "print('\\n')\n",
        "\n",
        "# matplotlib ploting\n",
        "plt.title('Linear Regression Example')\n",
        "plt.plot(t, x,'g.--')\n",
        "plt.plot(t, xn, 'k.')\n",
        "plt.plot(t, xr, 'r.-')\n",
        "plt.legend(['original','plus noise', 'regression'])\n",
        "plt.show();"
      ],
      "execution_count": null,
      "outputs": []
    },
    {
      "cell_type": "markdown",
      "metadata": {
        "id": "hb-iC1BZJa1i"
      },
      "source": [
        "### **2.15 Exercises**\n",
        "Write a program to create a list of prime numbers with values lower than 1000. Use for loops over the values 1 - 1000 and see if each is divisible by any value below it to determine if it is a prime. Then, plot the value of the prime numbers vs. the position of the prime numbers in the list. Do not just create a prime number list from your knowledge."
      ]
    },
    {
      "cell_type": "markdown",
      "metadata": {
        "id": "Cbw0HgRT8DNA"
      },
      "source": [
        "#### ***We won't have time to too much of this. But you are encouraged to look into matplotlib, numpy, scipy, and pandas libraries. They are very useful. We will be going over a little bit of pandas in the survey data analysis demo.***"
      ]
    },
    {
      "cell_type": "markdown",
      "metadata": {
        "id": "dY1_hdi1igii"
      },
      "source": [
        "If there are errors with your code, look at the report to see which line did the error originated.\n",
        "\n",
        "If you need coding help, you can search on stackoverflow forum. Pretty much all of the problems have already been solved by someone. However, if you can't find help there, feel free to send me an email.\n",
        "\n",
        "https://stackoverflow.com/"
      ]
    }
  ]
}